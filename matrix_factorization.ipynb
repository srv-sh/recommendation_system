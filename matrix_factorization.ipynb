{
 "cells": [
  {
   "cell_type": "markdown",
   "id": "c6b6dd84-6757-42f2-8c1c-d21dddfb917d",
   "metadata": {},
   "source": [
    "# Building a recommendation engine using matrix factorization\n",
    "\n",
    "Let us define a function to predict the ratings given by the user to all the movies which are not rated by him/her."
   ]
  },
  {
   "cell_type": "code",
   "execution_count": 11,
   "id": "b87133e3-6bfc-417b-a53e-b07d358f810c",
   "metadata": {},
   "outputs": [],
   "source": [
    "import numpy as np\n",
    "import pandas as pd"
   ]
  },
  {
   "cell_type": "code",
   "execution_count": 12,
   "id": "63fa25f4-615d-468d-b1d1-0cc7ae8daa86",
   "metadata": {},
   "outputs": [],
   "source": [
    "# reading rating file\n",
    "r_cols = ['user_id','movie_id','rating','unix_timestamp']\n",
    "ratings = pd.read_csv('data/u.data',sep ='\\t',names = r_cols)"
   ]
  },
  {
   "cell_type": "code",
   "execution_count": 35,
   "id": "4f38158f-cd76-4fe8-b955-6239acd7d7cf",
   "metadata": {},
   "outputs": [],
   "source": [
    "class MF():\n",
    "    #Initializing the user-movie rating matrix, no. of latent frature, alpha  and beta\n",
    "    def __init__(self, R,K, alpha , beta , iterations):\n",
    "        self.R = R\n",
    "        self.num_users , self.num_items = R.shape\n",
    "        self.K =K\n",
    "        self.alpha = alpha\n",
    "        self.beta = beta\n",
    "        self.iterations = iterations\n",
    "    #Intializing user-feature and movie-feature matrix\n",
    "    \n",
    "    #Computing total mean squared error\n",
    "    def mse(self):\n",
    "        xs, ys = self.R.nonzero()\n",
    "        predicted = self.full_matrix()\n",
    "        error = 0\n",
    "        for x, y in zip(xs, ys):\n",
    "            error += pow(self.R[x, y] - predicted[x, y], 2)\n",
    "        return np.sqrt(error)\n",
    "    \n",
    "    #Stochastic gradient descent to get optimized P and Q matrix\n",
    "    def sgd(self):\n",
    "        for i, j, r in self.samples:\n",
    "            prediction = self.get_rating(i, j)\n",
    "            e = (r - prediction)\n",
    "\n",
    "            self.b_u[i] += self.alpha * (e - self.beta * self.b_u[i])\n",
    "            self.b_i[j] += self.alpha * (e - self.beta * self.b_i[j])\n",
    "\n",
    "            self.P[i, :] += self.alpha * (e * self.Q[j, :] - self.beta * self.P[i,:])\n",
    "            self.Q[j, :] += self.alpha * (e * self.P[i, :] - self.beta * self.Q[j,:])\n",
    "            \n",
    "    # Rating for user i and movie j\n",
    "    def get_rating(self, i, j):\n",
    "        prediction = self.b + self.b_u[i] + self.b_i[j] + self.P[i, :].dot(self.Q[j, :].T)\n",
    "        return prediction\n",
    "    # FULL user-movie rating matrix\n",
    "    def full_matrix(self):\n",
    "        return mf.b + mf.b_u[: ,np.newaxis] + mf.b_i[np.newaxis: ,] +mf.P.dot(mf.Q.T)\n",
    "    \n",
    "    def train(self):\n",
    "        self.P = np.random.normal(scale = 1./self.K , size=(self.num_users , self.K))\n",
    "        self.Q = np.random.normal(scale = 1./self.K , size=(self.num_items , self.K))\n",
    "        \n",
    "        # initializing the bias terms\n",
    "        self.b_u = np.zeros(self.num_users)\n",
    "        self.b_i =np.zeros(self.num_items)\n",
    "        self.b = np.mean(self.R[np.where(self.R != 0)])\n",
    "        # List of training samples\n",
    "        self.samples = [\n",
    "            (i,j,self.R[i,j])\n",
    "            for i in range(self.num_users)\n",
    "            for j in range(self.num_items)\n",
    "            if self.R[i,j] > 0\n",
    "        ]\n",
    "        \n",
    "        # Stochastic gradient decent for given number of iterations\n",
    "        training_process = []\n",
    "        for i in range(self.iterations):\n",
    "            np.random.shuffle(self.samples)\n",
    "            self.sgd()\n",
    "            mse = self.mse()\n",
    "            training_process.append((i,mse))\n",
    "            if (i+1) % 20 == 0:\n",
    "                print(\"Iteration: %d ; error = %.4f\" %(i+1,mse))\n",
    "        return training_process\n",
    "\n",
    "        "
   ]
  },
  {
   "cell_type": "markdown",
   "id": "c58dca08-76f5-41ec-81a2-2bf3e78be3ce",
   "metadata": {},
   "source": [
    "Now we have a function that can predict the ratings. The input for this function are:\n",
    "\n",
    "- R – The user-movie rating matrix\n",
    "- K – Number of latent features\n",
    "- alpha – Learning rate for stochastic gradient descent\n",
    "- beta – Regularization parameter for bias\n",
    "- iterations – Number of iterations to perform stochastic gradient descent"
   ]
  },
  {
   "cell_type": "code",
   "execution_count": 36,
   "id": "6f4e9fc9-3179-4fb1-8e59-b7788064031c",
   "metadata": {},
   "outputs": [],
   "source": [
    "R= np.array(ratings.pivot(index = 'user_id', columns ='movie_id', values = 'rating').fillna(0))"
   ]
  },
  {
   "cell_type": "code",
   "execution_count": null,
   "id": "07d08a68-b5d1-490e-9ef9-ff13ceefa583",
   "metadata": {},
   "outputs": [
    {
     "name": "stdout",
     "output_type": "stream",
     "text": [
      "Iteration: 20 ; error = 296.1126\n",
      "Iteration: 40 ; error = 291.0028\n",
      "Iteration: 60 ; error = 287.4403\n",
      "Iteration: 80 ; error = 281.6394\n",
      "Iteration: 100 ; error = 272.2601\n",
      "Iteration: 120 ; error = 261.5457\n",
      "Iteration: 140 ; error = 250.6097\n",
      "Iteration: 160 ; error = 240.2238\n",
      "Iteration: 180 ; error = 231.1355\n",
      "Iteration: 200 ; error = 223.5613\n",
      "Iteration: 220 ; error = 217.3400\n",
      "Iteration: 240 ; error = 212.2039\n",
      "Iteration: 260 ; error = 207.9129\n",
      "Iteration: 280 ; error = 204.2836\n",
      "Iteration: 300 ; error = 201.1806\n",
      "Iteration: 320 ; error = 198.5034\n",
      "Iteration: 340 ; error = 196.1751\n",
      "Iteration: 360 ; error = 194.1360\n",
      "Iteration: 380 ; error = 192.3396\n",
      "Iteration: 400 ; error = 190.7454\n"
     ]
    }
   ],
   "source": [
    "mf = MF(R, K=20, alpha=0.001, beta=0.01, iterations=1000)\n",
    "training_process = mf.train()\n",
    "print()\n",
    "print(\"P x Q:\")\n",
    "print(mf.full_matrix())\n",
    "print()"
   ]
  },
  {
   "cell_type": "code",
   "execution_count": null,
   "id": "23df4289-ff52-4306-8827-a9fd89a2d19a",
   "metadata": {},
   "outputs": [],
   "source": []
  }
 ],
 "metadata": {
  "kernelspec": {
   "display_name": "Python 3",
   "language": "python",
   "name": "python3"
  },
  "language_info": {
   "codemirror_mode": {
    "name": "ipython",
    "version": 3
   },
   "file_extension": ".py",
   "mimetype": "text/x-python",
   "name": "python",
   "nbconvert_exporter": "python",
   "pygments_lexer": "ipython3",
   "version": "3.8.8"
  }
 },
 "nbformat": 4,
 "nbformat_minor": 5
}
